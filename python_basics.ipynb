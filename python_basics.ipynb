{
  "nbformat": 4,
  "nbformat_minor": 0,
  "metadata": {
    "colab": {
      "name": "python_basics.ipynb",
      "provenance": [],
      "collapsed_sections": [],
      "authorship_tag": "ABX9TyMnpExbIjxcMbPoLggF0g2G",
      "include_colab_link": true
    },
    "kernelspec": {
      "name": "python3",
      "display_name": "Python 3"
    },
    "language_info": {
      "name": "python"
    }
  },
  "cells": [
    {
      "cell_type": "markdown",
      "metadata": {
        "id": "view-in-github",
        "colab_type": "text"
      },
      "source": [
        "<a href=\"https://colab.research.google.com/github/asdSastha/tutorials/blob/main/python_basics.ipynb\" target=\"_parent\"><img src=\"https://colab.research.google.com/assets/colab-badge.svg\" alt=\"Open In Colab\"/></a>"
      ]
    },
    {
      "cell_type": "markdown",
      "metadata": {
        "id": "fTlCdMF3eP21"
      },
      "source": [
        "# Python Basics\n",
        "\n",
        "This is a language designed for people who want to program but who do not want to learn programming. Well this might sound like a joke and even the designer of the python **Guo Van Rossum** felt it funny so he named it on a satairical movie called **Monty Python's Flying Circus**. \n",
        "\n",
        " The python is developed so that the user can learn it easily and that is the very reason why this is widely used in prototyping. This is used in many fields like ML. AI etc.\n",
        " \n",
        " Unlike C/C++ or Java python works on an interpreter. and like C++ it is object oriented at the same time we write procedural code.\n",
        " \n",
        "\n",
        " ## Installing Python in Linux\n",
        "\n",
        "### Linux \n",
        "```\n",
        "$ sudo apt-get install python3\n",
        "```\n",
        "Note: We need python3 as python2's support is stopped from 2020.\n",
        "\n",
        "### Windows\n",
        "Go to this link and install the package.\n",
        "https://www.python.org/downloads/\n",
        "\n",
        "\n",
        "## IDe\n",
        "There are a lot of IDEs available but my personal favorites are **VsCode** and **Eclipse**, for wondows it is **Visual Studio**. If you want terminal based editors I would recommend **Vim** and **emacs**\n",
        "\n",
        "## Opening Interpreter\n",
        "\n",
        "### Linux\n",
        "  Type python in shell \n",
        "```\n",
        "$ python \n",
        ">>> \n",
        "```\n",
        "### Window \n",
        "  Run python executable or run from command prompt\n"
      ]
    },
    {
      "cell_type": "code",
      "metadata": {
        "id": "CuqYibhKe0wd"
      },
      "source": [
        ""
      ],
      "execution_count": null,
      "outputs": []
    }
  ]
}